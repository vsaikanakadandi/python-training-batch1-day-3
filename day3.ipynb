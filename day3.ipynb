{
 "cells": [
  {
   "cell_type": "code",
   "execution_count": 5,
   "id": "a237ae56-0e4c-4995-9894-016d5b92cda5",
   "metadata": {},
   "outputs": [
    {
     "name": "stdin",
     "output_type": "stream",
     "text": [
      "enter the value 33\n",
      "enter the value 33\n"
     ]
    },
    {
     "name": "stdout",
     "output_type": "stream",
     "text": [
      "it is a square\n"
     ]
    }
   ],
   "source": [
    "a=int(input(\"enter the value\"))\n",
    "b=int(input(\"enter the value\"))\n",
    "if a==b:\n",
    "     print(\"it is a square\")\n",
    "else:\n",
    "     print(\"not a square\")"
   ]
  },
  {
   "cell_type": "code",
   "execution_count": 7,
   "id": "bd189598-16c0-4c51-9963-496b4558e572",
   "metadata": {},
   "outputs": [
    {
     "name": "stdin",
     "output_type": "stream",
     "text": [
      "enter the value 22\n",
      "enter the value 55\n",
      "enter the value 97\n",
      "enter the value 12\n"
     ]
    },
    {
     "name": "stdout",
     "output_type": "stream",
     "text": [
      "the oldest one is 97\n"
     ]
    }
   ],
   "source": [
    "a=int(input(\"enter the value\"))\n",
    "b=int(input(\"enter the value\"))\n",
    "c=int(input(\"enter the value\"))\n",
    "d=int(input(\"enter the value\"))\n",
    "\n",
    "x= [a, b, c, d]\n",
    "\n",
    "if max(x):\n",
    "    print(\"the oldest one is\",max(x))\n"
   ]
  },
  {
   "cell_type": "code",
   "execution_count": 8,
   "id": "6edc804e-56a5-4155-98a6-12b15c5aef4f",
   "metadata": {},
   "outputs": [
    {
     "name": "stdin",
     "output_type": "stream",
     "text": [
      "enter the value a 345\n"
     ]
    },
    {
     "name": "stdout",
     "output_type": "stream",
     "text": [
      "not divisible by both 5 and 7\n"
     ]
    }
   ],
   "source": [
    "a=int(input(\"enter the value a\"))\n",
    "b=a%5\n",
    "c=a%7\n",
    "\n",
    "if b and c:\n",
    "    print(\"the number is divisible by 5 and 7\")\n",
    "else:\n",
    "    print(\"not divisible by both 5 and 7\")"
   ]
  },
  {
   "cell_type": "code",
   "execution_count": 25,
   "id": "f34d45ad-5e4d-450a-8b30-65b48714818d",
   "metadata": {},
   "outputs": [
    {
     "name": "stdin",
     "output_type": "stream",
     "text": [
      "enter the cost of bike 67443\n"
     ]
    },
    {
     "name": "stdout",
     "output_type": "stream",
     "text": [
      "the value of bike including all taxex and discount is 74187.3\n"
     ]
    }
   ],
   "source": [
    "a=int(input(\"enter the cost of bike\"))\n",
    "b=a>=100000\n",
    "c=50000<a<100000\n",
    "d=a<50000\n",
    "if b:\n",
    "   print(\"the total value of bike including all taxex and discount is\",a+(a*0.15)-(a*0.06))\n",
    "elif c:\n",
    "    print(\"the value of bike including all taxex and discount is\",a+(a*0.1))\n",
    "elif d:\n",
    "        print(\"the value of bike including all taxex and discount is\",a+(a*0.05))"
   ]
  },
  {
   "cell_type": "code",
   "execution_count": 40,
   "id": "0793d49d-1b1f-4731-9aea-c9fab842d5db",
   "metadata": {},
   "outputs": [
    {
     "name": "stdin",
     "output_type": "stream",
     "text": [
      "enter the marks 78\n"
     ]
    },
    {
     "name": "stdout",
     "output_type": "stream",
     "text": [
      "the grade is B\n"
     ]
    }
   ],
   "source": [
    "x=int(input(\"enter the marks\"))\n",
    "a=x<25\n",
    "b=25<=x<45\n",
    "c=45<=x<50\n",
    "d=50<=x<60\n",
    "e=60<=x<80\n",
    "f=80<=x<=100\n",
    "g=x>100\n",
    "h=x<0\n",
    "\n",
    "if g:\n",
    "    print(\"Invalid marks!!!\")\n",
    "elif h:\n",
    "    print(\"Invalid marks!!!\")\n",
    "elif a:\n",
    "    print(\"the grade is F\")\n",
    "elif b:\n",
    "    print(\"the grade is E\")\n",
    "elif c:\n",
    "    print(\"the grade is D\")\n",
    "elif d:\n",
    "    print(\"the grade is C\")\n",
    "elif e:\n",
    "    print(\"the grade is B\")\n",
    "elif f:\n",
    "    print(\"the grade is A\")\n"
   ]
  },
  {
   "cell_type": "code",
   "execution_count": 48,
   "id": "071fa422-ffae-46c2-b87f-5823b7c72fca",
   "metadata": {},
   "outputs": [
    {
     "name": "stdin",
     "output_type": "stream",
     "text": [
      "enter the letter aaa\n"
     ]
    },
    {
     "name": "stdout",
     "output_type": "stream",
     "text": [
      "consonent\n"
     ]
    }
   ],
   "source": [
    "char=input(\"enter the letter\")\n",
    "str1=\"aeiouAEIOU\"\n",
    "if char in str1:\n",
    "    print(\"vowel\")\n",
    "else:\n",
    "    print(\"consonent\")"
   ]
  },
  {
   "cell_type": "code",
   "execution_count": 59,
   "id": "e0afdf4f-792a-45ac-8279-51091d6a7426",
   "metadata": {},
   "outputs": [
    {
     "name": "stdout",
     "output_type": "stream",
     "text": [
      "0\n",
      "hello\n",
      "1\n",
      "hello\n",
      "2\n",
      "hello\n",
      "3\n",
      "hello\n",
      "4\n",
      "hello\n",
      "5\n",
      "hello\n",
      "6\n",
      "hello\n",
      "7\n",
      "hello\n",
      "8\n",
      "hello\n",
      "9\n",
      "hello\n"
     ]
    }
   ],
   "source": [
    "'''\n",
    "loop \n",
    "for loop is used to iteration, if we know the number of times the loop have to run.it is used to iterate the iterables eg(string, list, tuple, etc.,,)\n",
    "todo ---> syntax for loop\n",
    "for syntax in c\n",
    "for(i=0;i<10;i++){\n",
    "    printf(\"hello\")\n",
    "    }\n",
    "for syntax in python\n",
    "for user defined variable in range(start, end, step): default step value is 1\n",
    "  statement\n",
    "  statement\n",
    "  statement\n",
    "  '''\n",
    "for i in range(0,10):\n",
    "    print(i)\n",
    "    print(\"hello\")\n"
   ]
  },
  {
   "cell_type": "code",
   "execution_count": 63,
   "id": "f9b1773f-4f7b-4ef4-881d-de1c2ba110c6",
   "metadata": {},
   "outputs": [
    {
     "name": "stdout",
     "output_type": "stream",
     "text": [
      "23\n",
      "25\n",
      "27\n",
      "29\n",
      "31\n",
      "33\n",
      "35\n",
      "37\n",
      "39\n",
      "41\n",
      "43\n",
      "45\n",
      "47\n",
      "49\n"
     ]
    }
   ],
   "source": [
    "for val in range(23, 50, 2):\n",
    "    print(val)"
   ]
  },
  {
   "cell_type": "code",
   "execution_count": 76,
   "id": "e820e021-600e-456a-af59-d36d9a9e67c1",
   "metadata": {},
   "outputs": [
    {
     "ename": "SyntaxError",
     "evalue": "invalid syntax (1957168500.py, line 1)",
     "output_type": "error",
     "traceback": [
      "\u001b[1;36m  Cell \u001b[1;32mIn[76], line 1\u001b[1;36m\u001b[0m\n\u001b[1;33m    for i in range(1, 11, i++):\u001b[0m\n\u001b[1;37m                             ^\u001b[0m\n\u001b[1;31mSyntaxError\u001b[0m\u001b[1;31m:\u001b[0m invalid syntax\n"
     ]
    }
   ],
   "source": [
    "\n",
    "for i in range(1, 11, i++):\n",
    "    i==\"*\"\n",
    "    print(\"*\")"
   ]
  },
  {
   "cell_type": "code",
   "execution_count": 110,
   "id": "548d2750-c5b4-41d2-87b3-9c46a769ffa4",
   "metadata": {},
   "outputs": [
    {
     "name": "stdout",
     "output_type": "stream",
     "text": [
      "7 X 1 = 7\n",
      "7 X 2 = 14\n",
      "7 X 3 = 21\n",
      "7 X 4 = 28\n",
      "7 X 5 = 35\n",
      "7 X 6 = 42\n",
      "7 X 7 = 49\n",
      "7 X 8 = 56\n",
      "7 X 9 = 63\n",
      "7 X 10 = 70\n",
      "7 X 11 = 77\n",
      "7 X 12 = 84\n",
      "7 X 13 = 91\n",
      "7 X 14 = 98\n",
      "7 X 15 = 105\n",
      "7 X 16 = 112\n",
      "7 X 17 = 119\n",
      "7 X 18 = 126\n",
      "7 X 19 = 133\n",
      "7 X 20 = 140\n",
      "7 X 21 = 147\n",
      "7 X 22 = 154\n",
      "7 X 23 = 161\n",
      "7 X 24 = 168\n",
      "7 X 25 = 175\n",
      "7 X 26 = 182\n",
      "7 X 27 = 189\n",
      "7 X 28 = 196\n",
      "7 X 29 = 203\n",
      "7 X 30 = 210\n",
      "7 X 31 = 217\n",
      "7 X 32 = 224\n",
      "7 X 33 = 231\n",
      "7 X 34 = 238\n",
      "7 X 35 = 245\n",
      "7 X 36 = 252\n",
      "7 X 37 = 259\n",
      "7 X 38 = 266\n",
      "7 X 39 = 273\n",
      "7 X 40 = 280\n",
      "7 X 41 = 287\n",
      "7 X 42 = 294\n",
      "7 X 43 = 301\n",
      "7 X 44 = 308\n",
      "7 X 45 = 315\n",
      "7 X 46 = 322\n",
      "7 X 47 = 329\n",
      "7 X 48 = 336\n",
      "7 X 49 = 343\n",
      "7 X 50 = 350\n",
      "7 X 51 = 357\n",
      "7 X 52 = 364\n",
      "7 X 53 = 371\n",
      "7 X 54 = 378\n",
      "7 X 55 = 385\n",
      "7 X 56 = 392\n",
      "7 X 57 = 399\n",
      "7 X 58 = 406\n",
      "7 X 59 = 413\n",
      "7 X 60 = 420\n",
      "7 X 61 = 427\n",
      "7 X 62 = 434\n",
      "7 X 63 = 441\n",
      "7 X 64 = 448\n",
      "7 X 65 = 455\n",
      "7 X 66 = 462\n",
      "7 X 67 = 469\n",
      "7 X 68 = 476\n",
      "7 X 69 = 483\n",
      "7 X 70 = 490\n",
      "7 X 71 = 497\n",
      "7 X 72 = 504\n",
      "7 X 73 = 511\n",
      "7 X 74 = 518\n",
      "7 X 75 = 525\n",
      "7 X 76 = 532\n",
      "7 X 77 = 539\n",
      "7 X 78 = 546\n",
      "7 X 79 = 553\n",
      "7 X 80 = 560\n",
      "7 X 81 = 567\n",
      "7 X 82 = 574\n",
      "7 X 83 = 581\n",
      "7 X 84 = 588\n",
      "7 X 85 = 595\n",
      "7 X 86 = 602\n",
      "7 X 87 = 609\n",
      "7 X 88 = 616\n",
      "7 X 89 = 623\n",
      "7 X 90 = 630\n",
      "7 X 91 = 637\n",
      "7 X 92 = 644\n",
      "7 X 93 = 651\n",
      "7 X 94 = 658\n",
      "7 X 95 = 665\n",
      "7 X 96 = 672\n",
      "7 X 97 = 679\n",
      "7 X 98 = 686\n",
      "7 X 99 = 693\n",
      "7 X 100 = 700\n"
     ]
    }
   ],
   "source": [
    "i=0\n",
    "for val in range(1, 100+1):\n",
    "    i=val\n",
    "    print(\"7 X\",i,\"=\", val*7)"
   ]
  },
  {
   "cell_type": "code",
   "execution_count": 112,
   "id": "1686ea99-eff7-4db0-8208-09dac8200cac",
   "metadata": {},
   "outputs": [
    {
     "name": "stdout",
     "output_type": "stream",
     "text": [
      "7 X 1 = 7\n",
      "7 X 2 = 14\n",
      "7 X 3 = 21\n",
      "7 X 4 = 28\n",
      "7 X 5 = 35\n",
      "7 X 6 = 42\n",
      "7 X 7 = 49\n",
      "7 X 8 = 56\n",
      "7 X 9 = 63\n",
      "7 X 10 = 70\n",
      "7 X 11 = 77\n",
      "7 X 12 = 84\n",
      "7 X 13 = 91\n",
      "7 X 14 = 98\n",
      "7 X 15 = 105\n",
      "7 X 16 = 112\n",
      "7 X 17 = 119\n",
      "7 X 18 = 126\n",
      "7 X 19 = 133\n",
      "7 X 20 = 140\n",
      "7 X 21 = 147\n",
      "7 X 22 = 154\n",
      "7 X 23 = 161\n",
      "7 X 24 = 168\n",
      "7 X 25 = 175\n",
      "7 X 26 = 182\n",
      "7 X 27 = 189\n",
      "7 X 28 = 196\n",
      "7 X 29 = 203\n",
      "7 X 30 = 210\n",
      "7 X 31 = 217\n",
      "7 X 32 = 224\n",
      "7 X 33 = 231\n",
      "7 X 34 = 238\n",
      "7 X 35 = 245\n",
      "7 X 36 = 252\n",
      "7 X 37 = 259\n",
      "7 X 38 = 266\n",
      "7 X 39 = 273\n",
      "7 X 40 = 280\n",
      "7 X 41 = 287\n",
      "7 X 42 = 294\n",
      "7 X 43 = 301\n",
      "7 X 44 = 308\n",
      "7 X 45 = 315\n",
      "7 X 46 = 322\n",
      "7 X 47 = 329\n",
      "7 X 48 = 336\n",
      "7 X 49 = 343\n",
      "7 X 50 = 350\n",
      "7 X 51 = 357\n",
      "7 X 52 = 364\n",
      "7 X 53 = 371\n",
      "7 X 54 = 378\n",
      "7 X 55 = 385\n",
      "7 X 56 = 392\n",
      "7 X 57 = 399\n",
      "7 X 58 = 406\n",
      "7 X 59 = 413\n",
      "7 X 60 = 420\n",
      "7 X 61 = 427\n",
      "7 X 62 = 434\n",
      "7 X 63 = 441\n",
      "7 X 64 = 448\n",
      "7 X 65 = 455\n",
      "7 X 66 = 462\n",
      "7 X 67 = 469\n",
      "7 X 68 = 476\n",
      "7 X 69 = 483\n",
      "7 X 70 = 490\n",
      "7 X 71 = 497\n",
      "7 X 72 = 504\n",
      "7 X 73 = 511\n",
      "7 X 74 = 518\n",
      "7 X 75 = 525\n",
      "7 X 76 = 532\n",
      "7 X 77 = 539\n",
      "7 X 78 = 546\n",
      "7 X 79 = 553\n",
      "7 X 80 = 560\n",
      "7 X 81 = 567\n",
      "7 X 82 = 574\n",
      "7 X 83 = 581\n",
      "7 X 84 = 588\n",
      "7 X 85 = 595\n",
      "7 X 86 = 602\n",
      "7 X 87 = 609\n",
      "7 X 88 = 616\n",
      "7 X 89 = 623\n",
      "7 X 90 = 630\n",
      "7 X 91 = 637\n",
      "7 X 92 = 644\n",
      "7 X 93 = 651\n",
      "7 X 94 = 658\n",
      "7 X 95 = 665\n",
      "7 X 96 = 672\n",
      "7 X 97 = 679\n",
      "7 X 98 = 686\n",
      "7 X 99 = 693\n",
      "7 X 100 = 700\n"
     ]
    }
   ],
   "source": [
    "for val in range(1, 100+1):\n",
    "    ans=\"7 X {} = {}\"\n",
    "    print(ans.format(val, val*7))"
   ]
  },
  {
   "cell_type": "code",
   "execution_count": 235,
   "id": "a6c7cf66-4258-48b4-8c3f-8dbd0a65092f",
   "metadata": {},
   "outputs": [
    {
     "name": "stdout",
     "output_type": "stream",
     "text": [
      "*\n",
      "*\n",
      "*\n",
      "*\n",
      "*\n",
      "*\n",
      "*\n",
      "*\n",
      "*\n",
      "*\n",
      "*\n",
      "*\n",
      "*\n",
      "*\n",
      "*\n",
      "*\n",
      "*\n",
      "*\n",
      "*\n",
      "*\n",
      "*\n",
      "*\n",
      "*\n",
      "*\n",
      "*\n",
      "*\n",
      "*\n",
      "*\n",
      "*\n",
      "*\n",
      "*\n",
      "*\n",
      "*\n",
      "*\n",
      "*\n",
      "*\n",
      "*\n",
      "*\n",
      "*\n",
      "*\n",
      "*\n",
      "*\n",
      "*\n",
      "*\n",
      "*\n",
      "*\n",
      "*\n",
      "*\n",
      "*\n",
      "*\n",
      "*\n",
      "*\n",
      "*\n",
      "*\n",
      "*\n",
      "*\n",
      "*\n",
      "*\n",
      "*\n",
      "*\n",
      "*\n",
      "*\n",
      "*\n",
      "*\n",
      "*\n",
      "*\n",
      "*\n",
      "*\n",
      "*\n",
      "*\n",
      "*\n",
      "*\n",
      "*\n",
      "*\n",
      "*\n",
      "*\n",
      "*\n",
      "*\n",
      "*\n",
      "*\n",
      "*\n",
      "*\n",
      "*\n",
      "*\n",
      "*\n",
      "*\n",
      "*\n",
      "*\n",
      "*\n",
      "*\n",
      "*\n",
      "*\n",
      "*\n",
      "*\n",
      "*\n",
      "*\n",
      "*\n",
      "*\n",
      "*\n",
      "*\n",
      "*\n",
      "*\n",
      "*\n",
      "*\n",
      "*\n",
      "*\n",
      "*\n",
      "*\n",
      "*\n",
      "*\n",
      "*\n",
      "*\n",
      "*\n",
      "*\n",
      "*\n",
      "*\n",
      "*\n",
      "*\n",
      "*\n",
      "*\n",
      "*\n",
      "*\n",
      "*\n",
      "*\n",
      "*\n",
      "*\n",
      "*\n",
      "*\n",
      "*\n",
      "*\n",
      "*\n",
      "*\n",
      "*\n",
      "*\n",
      "*\n",
      "*\n",
      "*\n",
      "*\n",
      "*\n",
      "*\n",
      "*\n",
      "*\n",
      "*\n",
      "*\n",
      "*\n",
      "*\n",
      "*\n",
      "*\n",
      "*\n",
      "*\n",
      "*\n",
      "*\n",
      "*\n",
      "*\n",
      "*\n"
     ]
    }
   ],
   "source": [
    "for val in range(1, 10+1):\n",
    " for space in range(1, (10+val)+1):\n",
    "    n=\"*\"\n",
    "    while n==(10*val-1):\n",
    "        print(n, end=\"  \")\n",
    "        n+=1\n",
    "    print(n)\n",
    "    "
   ]
  },
  {
   "cell_type": "code",
   "execution_count": 211,
   "id": "1f37d4cb-286a-4be5-b443-70b6589ddb53",
   "metadata": {},
   "outputs": [
    {
     "name": "stdout",
     "output_type": "stream",
     "text": [
      "                  * \n",
      "                * * * \n",
      "              * * * * * \n",
      "            * * * * * * * \n",
      "          * * * * * * * * * \n",
      "        * * * * * * * * * * * \n",
      "      * * * * * * * * * * * * * \n",
      "    * * * * * * * * * * * * * * * \n",
      "  * * * * * * * * * * * * * * * * * \n"
     ]
    }
   ],
   "source": [
    "\n",
    "\n",
    "k = 0\n",
    "\n",
    "for i in range(1, 10):\n",
    "    for space in range(1, (10-i)+1):\n",
    "        print(end=\"  \")\n",
    "   \n",
    "    while k!=(2*i-1):\n",
    "        print(\"* \", end=\"\")\n",
    "        k += 1\n",
    "   \n",
    "    k = 0\n",
    "    print()"
   ]
  },
  {
   "cell_type": "code",
   "execution_count": null,
   "id": "59972001-3a0a-4562-8b5b-9247e2944250",
   "metadata": {},
   "outputs": [],
   "source": [
    "'''\n",
    "while loop\n",
    "while is the used when we do not know the number of times the loop have to run to iterate the non iterable elements while loop is used\n",
    "\n",
    "syntax \n",
    "while condition:\n",
    "   statement\n",
    "   incre or decre\n",
    "   '''\n",
    "i = 1\n",
    "while i<11:\n",
    "    print(i)"
   ]
  },
  {
   "cell_type": "code",
   "execution_count": 2,
   "id": "4b4f2bf3-0136-4745-9bef-a42d3b04783f",
   "metadata": {},
   "outputs": [
    {
     "name": "stdout",
     "output_type": "stream",
     "text": [
      "24\n",
      "26\n",
      "28\n",
      "30\n",
      "32\n",
      "34\n",
      "36\n",
      "38\n",
      "40\n",
      "42\n",
      "44\n",
      "46\n",
      "48\n",
      "50\n",
      "52\n",
      "54\n",
      "56\n",
      "58\n",
      "60\n",
      "62\n",
      "64\n",
      "66\n",
      "68\n",
      "70\n",
      "72\n",
      "74\n"
     ]
    }
   ],
   "source": [
    "for i in range(12, 37+1):\n",
    "    i= i+i\n",
    "    print(i)"
   ]
  },
  {
   "cell_type": "code",
   "execution_count": null,
   "id": "61a8b561-a893-4a83-83da-bed774e126f2",
   "metadata": {},
   "outputs": [],
   "source": [
    "i=0\n",
    "while i<11:\n",
    "    i+=1\n",
    "    print(i)"
   ]
  },
  {
   "cell_type": "code",
   "execution_count": null,
   "id": "ab5689cb-8686-4fe2-891f-add6b66c563e",
   "metadata": {},
   "outputs": [],
   "source": []
  }
 ],
 "metadata": {
  "kernelspec": {
   "display_name": "Python 3 (ipykernel)",
   "language": "python",
   "name": "python3"
  },
  "language_info": {
   "codemirror_mode": {
    "name": "ipython",
    "version": 3
   },
   "file_extension": ".py",
   "mimetype": "text/x-python",
   "name": "python",
   "nbconvert_exporter": "python",
   "pygments_lexer": "ipython3",
   "version": "3.11.7"
  }
 },
 "nbformat": 4,
 "nbformat_minor": 5
}
